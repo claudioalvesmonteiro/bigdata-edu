{
  "nbformat": 4,
  "nbformat_minor": 0,
  "metadata": {
    "colab": {
      "name": "bigdataEDU.ipynb",
      "version": "0.3.2",
      "provenance": [],
      "collapsed_sections": [],
      "include_colab_link": true
    },
    "kernelspec": {
      "name": "python3",
      "display_name": "Python 3"
    }
  },
  "cells": [
    {
      "cell_type": "markdown",
      "metadata": {
        "id": "view-in-github",
        "colab_type": "text"
      },
      "source": [
        "<a href=\"https://colab.research.google.com/github/claudioalvesmonteiro/bigdata-edu/blob/master/bigdataEDU.ipynb\" target=\"_parent\"><img src=\"https://colab.research.google.com/assets/colab-badge.svg\" alt=\"Open In Colab\"/></a>"
      ]
    },
    {
      "cell_type": "markdown",
      "metadata": {
        "id": "0PwnBYDdBEJZ",
        "colab_type": "text"
      },
      "source": [
        "Import Files\n",
        "\n",
        "---\n",
        "\n"
      ]
    },
    {
      "cell_type": "markdown",
      "metadata": {
        "id": "ynmn0F496u5r",
        "colab_type": "text"
      },
      "source": [
        ""
      ]
    },
    {
      "cell_type": "code",
      "metadata": {
        "id": "XCs-GkUl6iRM",
        "colab_type": "code",
        "colab": {}
      },
      "source": [
        "#import packages and authorize connection to Google account:\n",
        "import pandas as pd\n",
        "import gspread\n",
        "from gspread_dataframe import get_as_dataframe, set_with_dataframe\n",
        "from google.colab import auth\n",
        "auth.authenticate_user()  # verify your account to read files which you have access to. Make sure you have permission to read the file!\n",
        "from oauth2client.client import GoogleCredentials\n",
        "gc = gspread.authorize(GoogleCredentials.get_application_default()) "
      ],
      "execution_count": 0,
      "outputs": []
    },
    {
      "cell_type": "code",
      "metadata": {
        "id": "c1OVgz2c8E6C",
        "colab_type": "code",
        "colab": {}
      },
      "source": [
        "# import file\n",
        " spreadsheet = gc.open_by_url('https://docs.google.com/spreadsheets/d/1LCCzsUTqBEq5pemRNA9EGy62aaeIgye4XxwReYg1Pe4/edit#gid=509368585') # use this when you have the complete url (the edit#gid means permission)\n",
        "    sheet =  spreadsheet.get_worksheet(0)  # 0 means the first sheet in the file\n",
        "    df2 = pd.DataFrame(sheet.get_all_records())\n",
        "    df2.head()\n",
        "    \n",
        "    "
      ],
      "execution_count": 0,
      "outputs": []
    },
    {
      "cell_type": "markdown",
      "metadata": {
        "id": "aQXQsb2AEhfq",
        "colab_type": "text"
      },
      "source": [
        ""
      ]
    }
  ]
}