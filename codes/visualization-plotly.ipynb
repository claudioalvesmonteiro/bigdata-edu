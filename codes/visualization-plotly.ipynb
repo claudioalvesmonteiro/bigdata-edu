
#===========================
# visualizacao
#===========================

# funcao 
def annotaText(x, y, text, mini, maxi):
    import plotly.graph_objs as go
    listona = []
    cont = 0

    if not isinstance(text[0], int):
        xt = [str(i) for i in text]

    while cont < len(x):
        dic = {'x': x[cont], 
               'y': y[cont], 
               'xref': 'x', 
               'yref':'y', 
                'text': xt[cont],
                'showarrow':True,
                'arrowhead' : 7,
                'ax' : 0,
                'ay': -40}
        listona.append(dic)
        cont = cont + 1

    layout = go.Layout(
        showlegend=False,
        annotations= listona,
        yaxis = dict( range=[mini, maxi] )
    )
    
    return layout

# importar base
ano = pd.read_csv('resultados/tabelas/ano_obito_' +key+'.csv')

# min and max on plot
mini = 0 
maxi = ano['obitos_Homicídio'].max()+(ano['obitos_Homicídio'].max()*0.4)

# executar anotacoes
layout = annotaText(ano['ano_obito'], ano['obitos_Homicídio'], ano['obitos_Homicídio'], mini, maxi)

# visualizar grafico
fig = ano.iplot(x = 'ano_obito',
                y='obitos_Homicídio' , 
                mode='lines+markers',
                layout=layout.to_plotly_json(),
                filename='test')

